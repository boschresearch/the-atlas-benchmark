{
 "cells": [
  {
   "cell_type": "code",
   "execution_count": null,
   "metadata": {},
   "outputs": [],
   "source": [
    "# Copyright (c) 2022 - for information on the respective copyright owner see the NOTICE file or the repository https://github.com/boschresearch/the-atlas-benchmark\n",
    "#\n",
    "# SPDX-License-Identifier: Apache-2.0\n",
    "\n",
    "# System imports\n",
    "\n",
    "import yaml\n",
    "from context import Benchmark, Evaluator\n",
    "from context import Dataset\n",
    "from context import Predictor_CVM\n",
    "from context import Predictor_sof, Predictor_zan, Predictor_kara\n",
    "import random\n",
    "import numpy as np\n",
    "#from smac_optimizer import SmacOptimizer"
   ]
  },
  {
   "cell_type": "markdown",
   "metadata": {},
   "source": [
    "Create the dataset object based on the yaml file configuration"
   ]
  },
  {
   "cell_type": "code",
   "execution_count": null,
   "metadata": {},
   "outputs": [],
   "source": [
    "# Tested this instruction for the following datasets\n",
    "# input_benchmark_cfg_path = '../cfg/dataset_config_hotel.yaml'\n",
    "input_benchmark_cfg_path = '../cfg/dataset_config_eth.yaml'\n",
    "# input_benchmark_cfg_path = '../cfg/dataset_config_thor1.yaml'\n",
    "# input_benchmark_cfg_path = '../cfg/dataset_config_thor3.yaml'\n",
    "# input_benchmark_cfg_path = '../cfg/dataset_config_atc.yaml'\n",
    "# input_benchmark_cfg_path = '../cfg/dataset_config_test_traj.yaml'\n",
    "# input_benchmark_cfg_path = '../cfg/dataset_config_test_point_obstacles.yaml'\n",
    "\n",
    "with open(input_benchmark_cfg_path, 'r') as file:\n",
    "    benchmark_cfg = yaml.load(file, Loader=yaml.FullLoader)\n",
    "\n",
    "observation_len = benchmark_cfg['benchmark']['setup']['observation period']\n",
    "prediction_horizon = benchmark_cfg['benchmark']['setup']['prediction horizon']\n",
    "\n",
    "# Optional split parameter defines the portion of the dataset that is being extracted,\n",
    "# frames between 0 * length(dataset) and 1 * length(dataset)\n",
    "dataset_train = Dataset(benchmark_cfg, split=[0,0.2])\n",
    "valid_scenes_train = dataset_train.extract_scenarios(prediction_horizon,observation_len,min_num_prople=2)\n",
    "dataset_test = Dataset(benchmark_cfg, split=[0.2,1])\n",
    "valid_scenes_test = dataset_test.extract_scenarios(prediction_horizon,observation_len,min_num_prople=2)"
   ]
  },
  {
   "cell_type": "code",
   "execution_count": null,
   "metadata": {},
   "outputs": [],
   "source": [
    "import matplotlib as mpl\n",
    "mpl.rcParams['figure.dpi'] = 300\n",
    "\n",
    "evaluation = Evaluator(set_GT_length=prediction_horizon)\n",
    "\n",
    "#evaluation.evaluate_scenario_ade_fde(valid_scenes[19], predictions)\n",
    "evaluation.plot_scenario(dataset_test, valid_scenes_train[11])"
   ]
  },
  {
   "cell_type": "markdown",
   "metadata": {},
   "source": [
    "Preparing some predictors to be evaluated"
   ]
  },
  {
   "cell_type": "code",
   "execution_count": null,
   "metadata": {},
   "outputs": [],
   "source": [
    "with open('../cfg/method_config_cvm.yaml', 'r') as file:\n",
    "    method_cfg = yaml.load(file, Loader=yaml.FullLoader)\n",
    "predictor_cvm = Predictor_CVM(dataset_train, method_cfg)\n",
    "\n",
    "with open('../cfg/method_config_sof.yaml', 'r') as file:\n",
    "    method_cfg = yaml.load(file, Loader=yaml.FullLoader)\n",
    "predictor_sof = Predictor_sof(dataset_train, method_cfg)"
   ]
  },
  {
   "cell_type": "markdown",
   "metadata": {},
   "source": [
    "Setting up the benchmark"
   ]
  },
  {
   "cell_type": "code",
   "execution_count": null,
   "metadata": {},
   "outputs": [],
   "source": [
    "bench = Benchmark(verbose = False)\n",
    "fde_value = bench.accuracy_experiment(valid_scenes_test, predictor_cvm, metric='fde')\n",
    "print(\"Constant velocity model reaches FDE =\", fde_value)\n",
    "#bench.accuracy_experiment(valid_scenes_test, predictor_sof)"
   ]
  },
  {
   "cell_type": "code",
   "execution_count": null,
   "metadata": {},
   "outputs": [],
   "source": [
    "input_method_cfg_path = '../cfg/method_config_kara.yaml'\n",
    "#e = SmacOptimizer(input_method_cfg_path, input_benchmark_cfg_path, dataset_train_split=[0,0.2], min_num_prople=2, iterations=300, metric='fde')\n",
    "# !!! Be careful with this one, becaise it will overwrite the optimal values in the method_cfg file\n",
    "# e.optimize()"
   ]
  },
  {
   "cell_type": "code",
   "execution_count": null,
   "metadata": {},
   "outputs": [],
   "source": [
    "bench.verbose = True\n",
    "with open(input_method_cfg_path, 'r') as file:\n",
    "    method_cfg = yaml.load(file, Loader=yaml.FullLoader)\n",
    "\n",
    "print(\"With default parameters the model reaches:\")\n",
    "predictor_default = Predictor_kara(dataset_train, method_cfg)\n",
    "fde_value = bench.accuracy_experiment(valid_scenes_train, predictor_default, metric='fde')\n",
    "\n",
    "print(\"With optimal parameters the model reaches:\")\n",
    "predictor_optimal = Predictor_kara(dataset_train, method_cfg, parameters=['optimal','eth'])\n",
    "fde_value = bench.accuracy_experiment(valid_scenes_train, predictor_optimal, metric='fde')"
   ]
  }
 ],
 "metadata": {
  "interpreter": {
   "hash": "6b4d84c3852f959c51452edc31f633b4d181e9890474db74d40ef74f9e3a5d4b"
  },
  "kernelspec": {
   "display_name": "Python 3.7.11 ('atlas-env')",
   "language": "python",
   "name": "python3"
  },
  "language_info": {
   "codemirror_mode": {
    "name": "ipython",
    "version": 3
   },
   "file_extension": ".py",
   "mimetype": "text/x-python",
   "name": "python",
   "nbconvert_exporter": "python",
   "pygments_lexer": "ipython3",
   "version": "3.8.10"
  }
 },
 "nbformat": 4,
 "nbformat_minor": 1
}
